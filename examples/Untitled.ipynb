{
 "cells": [
  {
   "cell_type": "code",
   "execution_count": 1,
   "metadata": {},
   "outputs": [],
   "source": [
    "import os\n",
    "from openeo_pg_parser.translate import translate_process_graph"
   ]
  },
  {
   "cell_type": "code",
   "execution_count": 2,
   "metadata": {},
   "outputs": [],
   "source": [
    "pg_filepath = os.path.join(\"..\", \"tests\", \"process_graphs\", \"s2_max_ndvi.json\")"
   ]
  },
  {
   "cell_type": "code",
   "execution_count": 3,
   "metadata": {},
   "outputs": [
    {
     "name": "stdout",
     "output_type": "stream",
     "text": [
      "Node ID: apply_0 \n",
      "Node Name: apply \n",
      "{'arguments': {'data': {'from_node': 'reduce_time_7'},\n",
      "               'process': {'from_node': 'linear_scale_range_1'}},\n",
      " 'description': 'Stretch range from -1 / 1 to 0 / 255 for PNG visualization.',\n",
      " 'process_id': 'apply'}\n",
      "\n",
      "Node ID: load_collection_2 \n",
      "Node Name: load_collection \n",
      "{'arguments': {'bands': ['B4', 'B8'],\n",
      "               'id': 'COPERNICUS/S2',\n",
      "               'spatial_extent': {'coordinates': [[[7.246856689453125,\n",
      "                                                    47.167543112150554],\n",
      "                                                   [7.218189239501953,\n",
      "                                                    47.13520594493793],\n",
      "                                                   [7.23552703857422,\n",
      "                                                    47.11570074493338],\n",
      "                                                   [7.2803306579589835,\n",
      "                                                    47.11488300552253],\n",
      "                                                   [7.305736541748048,\n",
      "                                                    47.14793302647546],\n",
      "                                                   [7.279300689697265,\n",
      "                                                    47.16999386399103],\n",
      "                                                   [7.246856689453125,\n",
      "                                                    47.167543112150554]]],\n",
      "                                  'type': 'Polygon'},\n",
      "               'temporal_extent': ['2018-01-01T00:00:00Z',\n",
      "                                   '2018-01-31T23:59:59Z']},\n",
      " 'description': 'Loading the data; The order of the specified bands is '\n",
      "                'important for the following reduce operation.',\n",
      " 'process_id': 'load_collection'}\n",
      "\n",
      "Node ID: reduce_bands_3 \n",
      "Node Name: reduce_bands \n",
      "{'arguments': {'data': {'from_node': 'load_collection_2'},\n",
      "               'dimension': 'bands',\n",
      "               'reducer': {'from_node': 'ndvi_6'}},\n",
      " 'description': 'Compute the NDVI: (NIR - RED) / (NIR + RED)',\n",
      " 'process_id': 'reduce_dimension'}\n",
      "\n",
      "Node ID: reduce_time_7 \n",
      "Node Name: reduce_time \n",
      "{'arguments': {'data': {'from_node': 'reduce_bands_3'},\n",
      "               'dimension': 't',\n",
      "               'reducer': {'from_node': 'max_8'}},\n",
      " 'description': 'Compute a minimum time composite by reducing the temporal '\n",
      "                'dimension',\n",
      " 'process_id': 'reduce_dimension'}\n",
      "\n",
      "Node ID: save_9 \n",
      "Node Name: save \n",
      "{'arguments': {'data': {'from_node': 'apply_0'}, 'format': 'PNG'},\n",
      " 'process_id': 'save_result',\n",
      " 'result': True}\n",
      "\n",
      "Node ID: linear_scale_range_1 \n",
      "Node Name: linear_scale_range \n",
      "{'arguments': {'inputMax': 1,\n",
      "               'inputMin': -1,\n",
      "               'outputMax': 255,\n",
      "               'x': {'from_node': 'reduce_time_7'}},\n",
      " 'process_id': 'linear_scale_range',\n",
      " 'result': True}\n",
      "\n",
      "Node ID: red_4 \n",
      "Node Name: red \n",
      "{'arguments': {'data': {'from_node': 'load_collection_2'}, 'label': 'B4'},\n",
      " 'process_id': 'array_element'}\n",
      "\n",
      "Node ID: nir_5 \n",
      "Node Name: nir \n",
      "{'arguments': {'data': {'from_node': 'load_collection_2'}, 'label': 'B8'},\n",
      " 'process_id': 'array_element'}\n",
      "\n",
      "Node ID: ndvi_6 \n",
      "Node Name: ndvi \n",
      "{'arguments': {'x': {'from_node': 'nir_5'}, 'y': {'from_node': 'red_4'}},\n",
      " 'process_id': 'normalized_difference',\n",
      " 'result': True}\n",
      "\n",
      "Node ID: max_8 \n",
      "Node Name: max \n",
      "{'arguments': {'data': {'from_node': 'reduce_bands_3'}},\n",
      " 'process_id': 'max',\n",
      " 'result': True}\n",
      "\n",
      "\n"
     ]
    }
   ],
   "source": [
    "process_graph = translate_process_graph(pg_filepath)\n",
    "print(process_graph)"
   ]
  },
  {
   "cell_type": "code",
   "execution_count": null,
   "metadata": {},
   "outputs": [],
   "source": []
  }
 ],
 "metadata": {
  "kernelspec": {
   "display_name": "openeo-pg-parser-python",
   "language": "python",
   "name": "openeo-pg-parser-python"
  },
  "language_info": {
   "codemirror_mode": {
    "name": "ipython",
    "version": 3
   },
   "file_extension": ".py",
   "mimetype": "text/x-python",
   "name": "python",
   "nbconvert_exporter": "python",
   "pygments_lexer": "ipython3",
   "version": "3.6.10"
  }
 },
 "nbformat": 4,
 "nbformat_minor": 4
}
